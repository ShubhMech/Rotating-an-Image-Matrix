{
 "cells": [
  {
   "cell_type": "markdown",
   "id": "78a5d794-a270-445a-a6c0-9b7af948cac8",
   "metadata": {},
   "source": [
    "### Rotating elements of an array:"
   ]
  },
  {
   "cell_type": "code",
   "execution_count": 1,
   "id": "53a1fe67-7505-4b10-8308-3111ac332313",
   "metadata": {},
   "outputs": [],
   "source": [
    "import numpy as np\n",
    "arr= np.array([[1,2,3],[4,5,6],[7,8,9]])"
   ]
  },
  {
   "cell_type": "code",
   "execution_count": 2,
   "id": "41e30de7-ff8a-4606-b43b-7e6ca3490297",
   "metadata": {},
   "outputs": [
    {
     "data": {
      "text/plain": [
       "array([[1, 2, 3],\n",
       "       [4, 5, 6],\n",
       "       [7, 8, 9]])"
      ]
     },
     "execution_count": 2,
     "metadata": {},
     "output_type": "execute_result"
    }
   ],
   "source": [
    "arr"
   ]
  },
  {
   "cell_type": "code",
   "execution_count": 3,
   "id": "a94d84cd-692c-44ed-8922-4c5fc30bba8e",
   "metadata": {},
   "outputs": [],
   "source": [
    "# Visualising what a rotated matrix will look like if original one is rotatd by 90 degrees."
   ]
  },
  {
   "cell_type": "code",
   "execution_count": 4,
   "id": "f7f14c2f-46d0-4589-9235-ec06dac29aac",
   "metadata": {},
   "outputs": [],
   "source": [
    "arr_90=np.array([[7,4,1],[8,5,2],[9,6,3]])"
   ]
  },
  {
   "cell_type": "code",
   "execution_count": 5,
   "id": "a64e40af-9bc3-44c3-8ff8-54f1d5bc91e0",
   "metadata": {},
   "outputs": [
    {
     "data": {
      "text/plain": [
       "array([[7, 4, 1],\n",
       "       [8, 5, 2],\n",
       "       [9, 6, 3]])"
      ]
     },
     "execution_count": 5,
     "metadata": {},
     "output_type": "execute_result"
    }
   ],
   "source": [
    "arr_90"
   ]
  },
  {
   "cell_type": "code",
   "execution_count": 6,
   "id": "8fe0bd61-89b4-4627-af0d-dfd7c37854a4",
   "metadata": {},
   "outputs": [],
   "source": [
    "# np.delete(arr2, 0, 1)"
   ]
  },
  {
   "cell_type": "code",
   "execution_count": 7,
   "id": "a3052f00-fd80-4698-bb00-f91eb8891f8d",
   "metadata": {},
   "outputs": [],
   "source": [
    "# np.insert(arr2, 0, arr.T[:,2],1)"
   ]
  },
  {
   "cell_type": "code",
   "execution_count": 8,
   "id": "ff7cc77e-5245-4b09-b528-e289ac1d68b8",
   "metadata": {},
   "outputs": [
    {
     "data": {
      "text/plain": [
       "array([[7., 4., 1.],\n",
       "       [8., 5., 2.],\n",
       "       [9., 6., 3.]])"
      ]
     },
     "execution_count": 8,
     "metadata": {},
     "output_type": "execute_result"
    }
   ],
   "source": [
    "def rotate_90(arr):\n",
    "    tran= arr.T\n",
    "    list1=np.zeros(9)\n",
    "    arr2= np.asarray(list1).reshape(3,3)\n",
    "#     print(arr2)\n",
    "    for i in range(0,3):\n",
    "        arr2=np.delete(arr2, i, 1)\n",
    "#         print(arr2.shape)\n",
    "        arr2=np.insert(arr2, i, tran[:,2-i],1)\n",
    "#         print(arr2.shape)\n",
    "    return arr2\n",
    "rotate_90(arr)"
   ]
  },
  {
   "cell_type": "code",
   "execution_count": 9,
   "id": "b27d350c-8578-47bc-9bde-c837aa5c0bc1",
   "metadata": {},
   "outputs": [
    {
     "data": {
      "text/plain": [
       "array([[ True,  True,  True],\n",
       "       [ True,  True,  True],\n",
       "       [ True,  True,  True]])"
      ]
     },
     "execution_count": 9,
     "metadata": {},
     "output_type": "execute_result"
    }
   ],
   "source": [
    "rotate_90(arr) == arr_90"
   ]
  }
 ],
 "metadata": {
  "kernelspec": {
   "display_name": "Python 3",
   "language": "python",
   "name": "python3"
  },
  "language_info": {
   "codemirror_mode": {
    "name": "ipython",
    "version": 3
   },
   "file_extension": ".py",
   "mimetype": "text/x-python",
   "name": "python",
   "nbconvert_exporter": "python",
   "pygments_lexer": "ipython3",
   "version": "3.8.5"
  }
 },
 "nbformat": 4,
 "nbformat_minor": 5
}
